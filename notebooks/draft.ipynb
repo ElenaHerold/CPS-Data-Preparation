{
 "cells": [
  {
   "cell_type": "code",
   "execution_count": 1,
   "metadata": {},
   "outputs": [
    {
     "name": "stderr",
     "output_type": "stream",
     "text": [
      "/var/folders/d8/mhh9hs_x0w50j6nxkx1wsqx00000gn/T/ipykernel_95170/1206512384.py:5: DtypeWarning: Columns (25) have mixed types. Specify dtype option on import or set low_memory=False.\n",
      "  df = pd.read_csv(sample_parsed_csv)\n"
     ]
    },
    {
     "data": {
      "text/plain": [
       "PEAGE\n",
       "-1     15116\n",
       " 36     2416\n",
       " 33     2363\n",
       " 34     2342\n",
       " 37     2330\n",
       "       ...  \n",
       " 92       66\n",
       " 98       24\n",
       " 96       23\n",
       " 95       20\n",
       " 97        8\n",
       "Name: count, Length: 100, dtype: int64"
      ]
     },
     "execution_count": 1,
     "metadata": {},
     "output_type": "execute_result"
    }
   ],
   "source": [
    "from pathlib import Path\n",
    "import pandas as pd\n",
    "\n",
    "sample_parsed_csv = Path(\"/Users/henry/RA/[01] ifo Institute/CPS-Data-Preparation/data/raw/cps_data/csv/cps_199401.csv\")\n",
    "df = pd.read_csv(sample_parsed_csv)\n",
    "\n",
    "df.PEAGE.value_counts()"
   ]
  },
  {
   "cell_type": "code",
   "execution_count": 2,
   "metadata": {},
   "outputs": [
    {
     "data": {
      "text/html": [
       "<div>\n",
       "<style scoped>\n",
       "    .dataframe tbody tr th:only-of-type {\n",
       "        vertical-align: middle;\n",
       "    }\n",
       "\n",
       "    .dataframe tbody tr th {\n",
       "        vertical-align: top;\n",
       "    }\n",
       "\n",
       "    .dataframe thead th {\n",
       "        text-align: right;\n",
       "    }\n",
       "</style>\n",
       "<table border=\"1\" class=\"dataframe\">\n",
       "  <thead>\n",
       "    <tr style=\"text-align: right;\">\n",
       "      <th></th>\n",
       "      <th>HUTYPC</th>\n",
       "      <th>HWHHWGT</th>\n",
       "      <th>HRINTSTA</th>\n",
       "      <th>HRNUMHOU</th>\n",
       "      <th>HRHTYPE</th>\n",
       "      <th>HRMIS</th>\n",
       "      <th>HRMONTH</th>\n",
       "      <th>HRYEAR</th>\n",
       "      <th>HRLONGLK</th>\n",
       "      <th>HRSAMPLE</th>\n",
       "      <th>HRSERSUF</th>\n",
       "      <th>HUHHNUM</th>\n",
       "      <th>HUBUS</th>\n",
       "      <th>HUBUSL1</th>\n",
       "      <th>HUBUSL2</th>\n",
       "    </tr>\n",
       "  </thead>\n",
       "  <tbody>\n",
       "    <tr>\n",
       "      <th>0</th>\n",
       "      <td>-1</td>\n",
       "      <td>-1</td>\n",
       "      <td>3</td>\n",
       "      <td>0</td>\n",
       "      <td>0</td>\n",
       "      <td>2</td>\n",
       "      <td>1</td>\n",
       "      <td>94</td>\n",
       "      <td>2</td>\n",
       "      <td>A63</td>\n",
       "      <td>-1</td>\n",
       "      <td>1</td>\n",
       "      <td>-1</td>\n",
       "      <td>-1</td>\n",
       "      <td>-1</td>\n",
       "    </tr>\n",
       "    <tr>\n",
       "      <th>1</th>\n",
       "      <td>-1</td>\n",
       "      <td>18586305</td>\n",
       "      <td>1</td>\n",
       "      <td>2</td>\n",
       "      <td>1</td>\n",
       "      <td>1</td>\n",
       "      <td>1</td>\n",
       "      <td>94</td>\n",
       "      <td>0</td>\n",
       "      <td>A63</td>\n",
       "      <td>-1</td>\n",
       "      <td>1</td>\n",
       "      <td>2</td>\n",
       "      <td>-1</td>\n",
       "      <td>-1</td>\n",
       "    </tr>\n",
       "    <tr>\n",
       "      <th>2</th>\n",
       "      <td>-1</td>\n",
       "      <td>18586305</td>\n",
       "      <td>1</td>\n",
       "      <td>2</td>\n",
       "      <td>1</td>\n",
       "      <td>1</td>\n",
       "      <td>1</td>\n",
       "      <td>94</td>\n",
       "      <td>0</td>\n",
       "      <td>A63</td>\n",
       "      <td>-1</td>\n",
       "      <td>1</td>\n",
       "      <td>2</td>\n",
       "      <td>-1</td>\n",
       "      <td>-1</td>\n",
       "    </tr>\n",
       "    <tr>\n",
       "      <th>3</th>\n",
       "      <td>-1</td>\n",
       "      <td>23553238</td>\n",
       "      <td>1</td>\n",
       "      <td>3</td>\n",
       "      <td>1</td>\n",
       "      <td>5</td>\n",
       "      <td>1</td>\n",
       "      <td>94</td>\n",
       "      <td>3</td>\n",
       "      <td>A61</td>\n",
       "      <td>-1</td>\n",
       "      <td>1</td>\n",
       "      <td>2</td>\n",
       "      <td>-1</td>\n",
       "      <td>-1</td>\n",
       "    </tr>\n",
       "    <tr>\n",
       "      <th>4</th>\n",
       "      <td>-1</td>\n",
       "      <td>23553238</td>\n",
       "      <td>1</td>\n",
       "      <td>3</td>\n",
       "      <td>1</td>\n",
       "      <td>5</td>\n",
       "      <td>1</td>\n",
       "      <td>94</td>\n",
       "      <td>3</td>\n",
       "      <td>A61</td>\n",
       "      <td>-1</td>\n",
       "      <td>1</td>\n",
       "      <td>2</td>\n",
       "      <td>-1</td>\n",
       "      <td>-1</td>\n",
       "    </tr>\n",
       "  </tbody>\n",
       "</table>\n",
       "</div>"
      ],
      "text/plain": [
       "   HUTYPC   HWHHWGT  HRINTSTA  HRNUMHOU  HRHTYPE  HRMIS  HRMONTH  HRYEAR  \\\n",
       "0      -1        -1         3         0        0      2        1      94   \n",
       "1      -1  18586305         1         2        1      1        1      94   \n",
       "2      -1  18586305         1         2        1      1        1      94   \n",
       "3      -1  23553238         1         3        1      5        1      94   \n",
       "4      -1  23553238         1         3        1      5        1      94   \n",
       "\n",
       "   HRLONGLK HRSAMPLE HRSERSUF  HUHHNUM  HUBUS  HUBUSL1  HUBUSL2  \n",
       "0         2      A63       -1        1     -1       -1       -1  \n",
       "1         0      A63       -1        1      2       -1       -1  \n",
       "2         0      A63       -1        1      2       -1       -1  \n",
       "3         3      A61       -1        1      2       -1       -1  \n",
       "4         3      A61       -1        1      2       -1       -1  "
      ]
     },
     "execution_count": 2,
     "metadata": {},
     "output_type": "execute_result"
    }
   ],
   "source": [
    "# 001091158590 1  124 1 0233-1-1 1-1-1-1-1-1 9-1-1         3 0 0 2 194 2A63 -1 1-1-1-1-1-1 363 1-11000-1 -1-1 1 0 1-1-1-1-1-1--1-1-1-1-1-1-1-1-1-1-1-1-1-1-1-1-1-1-1-1 -1 -1 -1-1-1-1-1-1-1-1-1-1-1-1-1-1-1-1-1-1-1-1-1-1-1-1-1-1-1 -1-1-1-1-1-1-1-1-1-1-1 -1-1   -1-1-1-1-1-1-1-1-1-1-1-1-1-1 -1-1-1-1-1-1-1-1-1-1-1-1-1-1-1-1-1-1-1-1-1-1-1-1-1-1-1-1-1 -1-1-1-1-1-1-1-1-1-1-1-1-1-1-1-1-1-1-1-1-1-1-1-1-1-1-1-1-1-1-1-1 -1-1-1-1-1-1-1-1-1-1-1-1-1-1 -1 -1-1-1 -1 -1-1-1-1-1-1-1-1-1-1-1-1-1-1-1-1-1-1-1-1-1-1-1-1-1-1-1-1-1  -1  -1  -1  0-1-1      0-1-1-1      -1      0-1-1-1-1-1-1-1-1-1-1-1-1-1-1        -1        -1        -1        -1        -1    -1-1 1 0 1 1 1-1-1-1-1-1-1-1-1-1-1-1-1-1-1-1-1-1-1-1-1-1-1-1-1-1-1-1-1-1-1-1-1-1-1-1-1-1-1-1-1-1-1-1-1-1-1-1-1-1-1-1-1-1-1-1-1-1-1-1-1-1-1-1-1-1-1-1-1-1-1-1-1-1-1-1-1-1-1-1-1-1\n",
    "\n",
    "df.iloc[:, :15].head()\n",
    "df.iloc[:, 15:30].head()"
   ]
  },
  {
   "cell_type": "code",
   "execution_count": 3,
   "metadata": {},
   "outputs": [
    {
     "data": {
      "text/plain": [
       "57520880"
      ]
     },
     "execution_count": 3,
     "metadata": {},
     "output_type": "execute_result"
    }
   ],
   "source": [
    "cps_obs = len(df)\n",
    "cps_obs_per_year = cps_obs * 12\n",
    "acs_obs_per_year = 1000000\n",
    "\n",
    "total_obs_per_year = cps_obs_per_year + acs_obs_per_year\n",
    "\n",
    "total_obs_per_year * 20"
   ]
  },
  {
   "cell_type": "code",
   "execution_count": null,
   "metadata": {},
   "outputs": [],
   "source": []
  }
 ],
 "metadata": {
  "kernelspec": {
   "display_name": "base",
   "language": "python",
   "name": "python3"
  },
  "language_info": {
   "codemirror_mode": {
    "name": "ipython",
    "version": 3
   },
   "file_extension": ".py",
   "mimetype": "text/x-python",
   "name": "python",
   "nbconvert_exporter": "python",
   "pygments_lexer": "ipython3",
   "version": "3.11.5"
  }
 },
 "nbformat": 4,
 "nbformat_minor": 2
}
