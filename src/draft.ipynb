{
 "cells": [
  {
   "cell_type": "code",
   "execution_count": 4,
   "metadata": {},
   "outputs": [],
   "source": [
    "import re"
   ]
  },
  {
   "cell_type": "code",
   "execution_count": 10,
   "metadata": {},
   "outputs": [
    {
     "name": "stdout",
     "output_type": "stream",
     "text": [
      "Matched line 1\n",
      "('GEDIV', '1', 'DIVISION', '91', '91')\n",
      "Matched line 2\n",
      "('FILLER', '1', '\\t', '92', '92')\n"
     ]
    }
   ],
   "source": [
    "line_1 = \"GEDIV\t\t\t1\t\tDIVISION\t\t\t\t\t\t\t\t\t \t91 - 91\"\n",
    "line_2 = \"FILLER\t\t\t1\t\t\t\t\t\t\t\t\t\t\t\t\t92  92\"\n",
    "\n",
    "pattern = r\"(\\w+\\d?)\\s+(\\d+)\\s+(.+?)\\s+\\(?(\\d+)\\s*[-]{1}\\s*(\\d+)\\)?\\s*$\"\n",
    "\n",
    "match_1 = re.match(pattern, line_1)\n",
    "match_2 = re.match(pattern, line_2)\n",
    "\n",
    "if match_1:\n",
    "    print(\"Matched line 1\")\n",
    "    print(match_1.groups())\n",
    "else:\n",
    "    print(\"No match for line 1\")    \n",
    "\n",
    "if match_2:\n",
    "    print(\"Matched line 2\")\n",
    "    print(match_2.groups())\n",
    "else:\n",
    "    print(\"No match for line 2\")"
   ]
  },
  {
   "cell_type": "code",
   "execution_count": 11,
   "metadata": {},
   "outputs": [
    {
     "data": {
      "text/plain": [
       "True"
      ]
     },
     "execution_count": 11,
     "metadata": {},
     "output_type": "execute_result"
    }
   ],
   "source": [
    "\"-\" == \"-\""
   ]
  },
  {
   "cell_type": "code",
   "execution_count": 12,
   "metadata": {},
   "outputs": [
    {
     "data": {
      "text/plain": [
       "True"
      ]
     },
     "execution_count": 12,
     "metadata": {},
     "output_type": "execute_result"
    }
   ],
   "source": [
    "\"\" == \"\""
   ]
  },
  {
   "cell_type": "code",
   "execution_count": 1,
   "metadata": {},
   "outputs": [
    {
     "name": "stderr",
     "output_type": "stream",
     "text": [
      "/var/folders/d8/mhh9hs_x0w50j6nxkx1wsqx00000gn/T/ipykernel_87843/4081611895.py:5: DtypeWarning: Columns (24) have mixed types. Specify dtype option on import or set low_memory=False.\n",
      "  df = pd.read_csv(sample_parsed_csv)\n"
     ]
    }
   ],
   "source": [
    "from pathlib import Path\n",
    "import pandas as pd\n",
    "\n",
    "sample_parsed_csv = Path(\"/Users/henry/RA/[01] ifo Institute/CPS-Data-Preparation/data/raw/cps_data/csv/cps_199710.csv\")\n",
    "df = pd.read_csv(sample_parsed_csv)"
   ]
  },
  {
   "cell_type": "code",
   "execution_count": null,
   "metadata": {},
   "outputs": [],
   "source": []
  }
 ],
 "metadata": {
  "kernelspec": {
   "display_name": "base",
   "language": "python",
   "name": "python3"
  },
  "language_info": {
   "codemirror_mode": {
    "name": "ipython",
    "version": 3
   },
   "file_extension": ".py",
   "mimetype": "text/x-python",
   "name": "python",
   "nbconvert_exporter": "python",
   "pygments_lexer": "ipython3",
   "version": "3.11.5"
  }
 },
 "nbformat": 4,
 "nbformat_minor": 2
}
