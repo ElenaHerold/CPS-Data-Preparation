{
 "cells": [
  {
   "cell_type": "code",
   "execution_count": 1,
   "metadata": {},
   "outputs": [
    {
     "name": "stdout",
     "output_type": "stream",
     "text": [
      "Pattern 1: HURESPLI 2 LINE NUMBER OF THE CURRENT 22 23\n",
      "Pattern 2: HURESPLI 2 LINE NUMBER OF THE CURRENT 22 23\n",
      "Pattern 3: HURESPLI 2 LINE NUMBER OF THE CURRENT 22 23\n",
      "Pattern 4: HURESPLI 2 LINE NUMBER OF THE CURRENT 22 23\n",
      "Pattern 5: HURESPLI 2 LINE NUMBER OF THE CURRENT 22 23\n"
     ]
    }
   ],
   "source": [
    "import re\n",
    "\n",
    "line = \"HURESPLI     2     LINE NUMBER OF THE CURRENT           (22 - 23)\"\n",
    "\n",
    "# Pattern 1: Basic extraction with minimal assumptions about spacing\n",
    "pattern1 = r\"(\\w+)\\s+(\\d+)\\s+(.*?)\\s+\\((\\d+)\\s*-\\s*(\\d+)\\)\"\n",
    "match = re.match(pattern1, line)\n",
    "if match:\n",
    "    var_name, var_len, desc, start_pos, end_pos = match.groups()\n",
    "    print(\"Pattern 1:\", var_name, var_len, desc, start_pos, end_pos)\n",
    "\n",
    "# Pattern 2: More flexible with whitespace, ensuring description can include wider range of characters\n",
    "pattern2 = r\"(\\w+)\\s+(\\d+)\\s+(.+?)\\s+\\((\\d+)\\s*-\\s*(\\d+)\\)\"\n",
    "match = re.match(pattern2, line)\n",
    "if match:\n",
    "    var_name, var_len, desc, start_pos, end_pos = match.groups()\n",
    "    print(\"Pattern 2:\", var_name, var_len, desc, start_pos, end_pos)\n",
    "\n",
    "# Pattern 3: Assumes variable names are uppercase letters and underscores, allowing for more specific matching\n",
    "pattern3 = r\"([A-Z_]+)\\s+(\\d+)\\s+(.+?)\\s+\\((\\d+)\\s*-\\s*(\\d+)\\)\"\n",
    "match = re.match(pattern3, line)\n",
    "if match:\n",
    "    var_name, var_len, desc, start_pos, end_pos = match.groups()\n",
    "    print(\"Pattern 3:\", var_name, var_len, desc, start_pos, end_pos)\n",
    "\n",
    "# Pattern 4: Specifically designed for descriptions that may include letters, numbers, and spaces\n",
    "pattern4 = r\"(\\w+)\\s+(\\d+)\\s+([A-Za-z0-9\\s]+?)\\s+\\((\\d+)\\s*-\\s*(\\d+)\\)\"\n",
    "match = re.match(pattern4, line)\n",
    "if match:\n",
    "    var_name, var_len, desc, start_pos, end_pos = match.groups()\n",
    "    print(\"Pattern 4:\", var_name, var_len, desc, start_pos, end_pos)\n",
    "\n",
    "# Pattern 5: Highly specific, assuming descriptions don't contain digits and allowing multiple spaces\n",
    "pattern5 = r\"(\\w+)\\s+(\\d+)\\s+([A-Za-z\\s]+?)\\s+\\((\\d+)\\s*-\\s*(\\d+)\\)\"\n",
    "match = re.match(pattern5, line)\n",
    "if match:\n",
    "    var_name, var_len, desc, start_pos, end_pos = match.groups()\n",
    "    print(\"Pattern 5:\", var_name, var_len, desc, start_pos, end_pos)\n"
   ]
  },
  {
   "cell_type": "code",
   "execution_count": 4,
   "metadata": {},
   "outputs": [
    {
     "name": "stdout",
     "output_type": "stream",
     "text": [
      "Number of filtered lines: 2\n"
     ]
    }
   ],
   "source": [
    "text = \"\"\"                CPS RECORD LAYOUT FOR BASIC LABOR FORCE ITEMS\n",
    "                            January - March 1994\n",
    "                          A1. HOUSEHOLD INFORMATION\n",
    "\n",
    "NAME         SIZE  DESCRIPTION                          LOCATION\n",
    "\n",
    "HRHHID          12     HOUSEHOLD IDENTIFIER                   (1 - 12)\n",
    "\n",
    "                   EDITED UNIVERSE: ALL HHLD's IN SAMPLE\n",
    "\n",
    "HUINTTYP     2     TYPE OF INTERVIEW                    (13 - 14)\n",
    "\n",
    "                   VALID ENTRIES\n",
    "\n",
    "                   0   CATI INTERVIEW\n",
    "                   1   PERSONAL (CAPI)\n",
    "                   2   TELEPHONE (CAPI)\"\"\"\n",
    "                   \n",
    "line_pattern = r\".* \\(\\d+ - \\d+\\) *$\"\n",
    "filtered_lines = [line for line in text.splitlines() if re.match(line_pattern, line)]\n",
    "print(\"Number of filtered lines:\", len(filtered_lines))\n"
   ]
  },
  {
   "cell_type": "code",
   "execution_count": null,
   "metadata": {},
   "outputs": [],
   "source": []
  }
 ],
 "metadata": {
  "kernelspec": {
   "display_name": "base",
   "language": "python",
   "name": "python3"
  },
  "language_info": {
   "codemirror_mode": {
    "name": "ipython",
    "version": 3
   },
   "file_extension": ".py",
   "mimetype": "text/x-python",
   "name": "python",
   "nbconvert_exporter": "python",
   "pygments_lexer": "ipython3",
   "version": "3.11.5"
  }
 },
 "nbformat": 4,
 "nbformat_minor": 2
}
