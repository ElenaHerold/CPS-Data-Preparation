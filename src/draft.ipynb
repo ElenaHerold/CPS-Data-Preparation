{
 "cells": [
  {
   "cell_type": "code",
   "execution_count": 4,
   "metadata": {},
   "outputs": [],
   "source": [
    "import re"
   ]
  },
  {
   "cell_type": "code",
   "execution_count": 10,
   "metadata": {},
   "outputs": [
    {
     "name": "stdout",
     "output_type": "stream",
     "text": [
      "Matched line 1\n",
      "('GEDIV', '1', 'DIVISION', '91', '91')\n",
      "Matched line 2\n",
      "('FILLER', '1', '\\t', '92', '92')\n"
     ]
    }
   ],
   "source": [
    "line_1 = \"GEDIV\t\t\t1\t\tDIVISION\t\t\t\t\t\t\t\t\t \t91 - 91\"\n",
    "line_2 = \"FILLER\t\t\t1\t\t\t\t\t\t\t\t\t\t\t\t\t92  92\"\n",
    "\n",
    "pattern = r\"(\\w+\\d?)\\s+(\\d+)\\s+(.+?)\\s+\\(?(\\d+)\\s*[-]{1}\\s*(\\d+)\\)?\\s*$\"\n",
    "\n",
    "match_1 = re.match(pattern, line_1)\n",
    "match_2 = re.match(pattern, line_2)\n",
    "\n",
    "if match_1:\n",
    "    print(\"Matched line 1\")\n",
    "    print(match_1.groups())\n",
    "else:\n",
    "    print(\"No match for line 1\")    \n",
    "\n",
    "if match_2:\n",
    "    print(\"Matched line 2\")\n",
    "    print(match_2.groups())\n",
    "else:\n",
    "    print(\"No match for line 2\")"
   ]
  },
  {
   "cell_type": "code",
   "execution_count": 9,
   "metadata": {},
   "outputs": [
    {
     "name": "stdout",
     "output_type": "stream",
     "text": [
      "Matched line 1\n",
      "('GEDIV', '1', 'DIVISION', '91', '-', '91')\n",
      "Matched line 2\n",
      "('FILLER', '1', '92 \\x96', '9', None, '2')\n"
     ]
    }
   ],
   "source": [
    "import re\n",
    "\n",
    "line_1 = \"GEDIV          1       DIVISION                                      91 - 91\"\n",
    "line_2 = \"FILLER         1                                                   92  92\"\n",
    "\n",
    "# Updated pattern to optionally match spaces in the description and accommodate non-hyphenated position fields\n",
    "pattern = r\"(\\w+\\d?)\\s+(\\d+)\\s+(.*?)\\s*(\\d+)\\s*([-])?\\s*(\\d+)\\s*$\"\n",
    "\n",
    "match_1 = re.match(pattern, line_1)\n",
    "match_2 = re.match(pattern, line_2)\n",
    "\n",
    "if match_1:\n",
    "    print(\"Matched line 1\")\n",
    "    print(match_1.groups())\n",
    "else:\n",
    "    print(\"No match for line 1\")    \n",
    "\n",
    "if match_2:\n",
    "    print(\"Matched line 2\")\n",
    "    print(match_2.groups())\n",
    "else:\n",
    "    print(\"No match for line 2\")\n"
   ]
  },
  {
   "cell_type": "code",
   "execution_count": null,
   "metadata": {},
   "outputs": [],
   "source": []
  }
 ],
 "metadata": {
  "kernelspec": {
   "display_name": "base",
   "language": "python",
   "name": "python3"
  },
  "language_info": {
   "codemirror_mode": {
    "name": "ipython",
    "version": 3
   },
   "file_extension": ".py",
   "mimetype": "text/x-python",
   "name": "python",
   "nbconvert_exporter": "python",
   "pygments_lexer": "ipython3",
   "version": "3.11.5"
  }
 },
 "nbformat": 4,
 "nbformat_minor": 2
}
